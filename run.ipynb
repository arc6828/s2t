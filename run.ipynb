{
 "cells": [
  {
   "cell_type": "markdown",
   "metadata": {},
   "source": [
    "## 2. ขั้นตอนการสกัดข้อความ"
   ]
  },
  {
   "cell_type": "markdown",
   "metadata": {},
   "source": [
    "### ขั้นตอนที่ 1: แยกเสียงออกจากวิดีโอ\n",
    "ใช้ moviepy เพื่อดึงเสียง:"
   ]
  },
  {
   "cell_type": "code",
   "execution_count": null,
   "metadata": {},
   "outputs": [],
   "source": [
    "from moviepy import VideoFileClip\n",
    "\n",
    "# โหลดไฟล์วิดีโอ\n",
    "# video = VideoFileClip(\"video.mp4\")\n",
    "print(\"โหลดไฟล์วิดีโอ\")\n",
    "video = VideoFileClip(\"../sources/vdo/20241129_095733.mp4\")\n",
    "# video = VideoFileClip(\"../sources/vdo/20241129_111233.mp4\")\n",
    "\n",
    "# ดึงเสียงออกจากวิดีโอ\n",
    "print(\"ดึงเสียงออกจากวิดีโอ\")\n",
    "audio = video.audio\n",
    "\n",
    "# บันทึกไฟล์เสียง\n",
    "# audio.write_audiofile(\"audio.wav\")\n",
    "print(\"บันทึกไฟล์เสียง\")\n",
    "audio.write_audiofile(\"../sources/audio/audio.wav\")"
   ]
  },
  {
   "cell_type": "markdown",
   "metadata": {},
   "source": [
    "### ขั้นตอนที่ 2: ลดเสียงรบกวน\n",
    "ใช้ noisereduce เพื่อลด noise:"
   ]
  },
  {
   "cell_type": "code",
   "execution_count": null,
   "metadata": {},
   "outputs": [],
   "source": [
    "import noisereduce as nr\n",
    "import numpy as np\n",
    "import scipy.io.wavfile as wav\n",
    "\n",
    "# โหลดไฟล์เสียง\n",
    "rate, data = wav.read(\"../sources/audio/audio.wav\")\n",
    "\n",
    "# เลือกตัวอย่าง noise (ช่วงที่ไม่มีคำพูด)\n",
    "noise_sample = data[:5000]\n",
    "\n",
    "# ลดเสียงรบกวน\n",
    "reduced_noise = nr.reduce_noise(y=data, sr=rate, y_noise=noise_sample)\n",
    "\n",
    "# บันทึกเสียงใหม่\n",
    "wav.write(\"../sources/audio/clean_audio.wav\", rate, reduced_noise.astype(np.int16))\n"
   ]
  },
  {
   "cell_type": "markdown",
   "metadata": {},
   "source": [
    "### ขั้นตอนที่ 3: แปลงเสียงเป็นข้อความ\n",
    "ใช้ speech_recognition:"
   ]
  },
  {
   "cell_type": "code",
   "execution_count": null,
   "metadata": {},
   "outputs": [],
   "source": [
    "import speech_recognition as sr\n",
    "\n",
    "# โหลดไฟล์เสียงที่ผ่านการลบ noise แล้ว\n",
    "recognizer = sr.Recognizer()\n",
    "with sr.AudioFile(\"clean_audio.wav\") as source:\n",
    "    audio = recognizer.record(source)\n",
    "\n",
    "# ใช้ Google Speech Recognition\n",
    "try:\n",
    "    text = recognizer.recognize_google(audio, language=\"th-TH\")\n",
    "    print(\"ข้อความที่ได้:\", text)\n",
    "except sr.UnknownValueError:\n",
    "    print(\"ไม่สามารถเข้าใจเสียงได้\")\n",
    "except sr.RequestError:\n",
    "    print(\"ไม่สามารถเชื่อมต่อกับบริการได้\")\n"
   ]
  },
  {
   "cell_type": "markdown",
   "metadata": {},
   "source": [
    "## 3. การปรับปรุงคุณภาพเสียง (Optional)\n",
    "แปลงเสียงเป็น mono: ใช้ pydub เพื่อลดความซับซ้อนของเสียง:\n",
    "ปรับอัตราการสุ่มตัวอย่าง (Resampling): ลด sampling rate เพื่อปรับคุณภาพเสียงให้เหมาะกับโมเดล."
   ]
  },
  {
   "cell_type": "code",
   "execution_count": 3,
   "metadata": {},
   "outputs": [
    {
     "name": "stderr",
     "output_type": "stream",
     "text": [
      "c:\\Users\\User\\AppData\\Local\\Programs\\Python\\Python312\\Lib\\site-packages\\pydub\\utils.py:170: RuntimeWarning: Couldn't find ffmpeg or avconv - defaulting to ffmpeg, but may not work\n",
      "  warn(\"Couldn't find ffmpeg or avconv - defaulting to ffmpeg, but may not work\", RuntimeWarning)\n"
     ]
    },
    {
     "data": {
      "text/plain": [
       "<_io.BufferedRandom name='../sources/audio/mono_audio.wav'>"
      ]
     },
     "execution_count": 3,
     "metadata": {},
     "output_type": "execute_result"
    }
   ],
   "source": [
    "from pydub import AudioSegment\n",
    "\n",
    "# โหลดเสียง\n",
    "audio = AudioSegment.from_file(\"../sources/audio/audio.wav\")\n",
    "\n",
    "# แปลงเป็น mono\n",
    "audio = audio.set_channels(1)\n",
    "audio.export(\"../sources/audio/mono_audio.wav\", format=\"wav\")\n"
   ]
  },
  {
   "cell_type": "markdown",
   "metadata": {},
   "source": [
    "## 4. ข้อแนะนำ\n",
    "Noise Removal: หากเสียงรบกวนมาก ควรใช้เครื่องมือเฉพาะ เช่น Audacity เพื่อลด noise ก่อน\n",
    "Custom Models: สำหรับภาษาไทย อาจพิจารณาใช้ VOSK หรือบริการคลาวด์ เช่น Google Speech-to-Text API ที่รองรับภาษาไทยได้ดี\n",
    "Cloud Solutions: ใช้บริการคลาวด์สำหรับการประมวลผลเสียงขนาดใหญ่ เช่น AWS Transcribe, Google Cloud, หรือ Microsoft Azure"
   ]
  },
  {
   "cell_type": "code",
   "execution_count": null,
   "metadata": {},
   "outputs": [],
   "source": []
  }
 ],
 "metadata": {
  "kernelspec": {
   "display_name": "Python 3",
   "language": "python",
   "name": "python3"
  },
  "language_info": {
   "codemirror_mode": {
    "name": "ipython",
    "version": 3
   },
   "file_extension": ".py",
   "mimetype": "text/x-python",
   "name": "python",
   "nbconvert_exporter": "python",
   "pygments_lexer": "ipython3",
   "version": "3.12.3"
  }
 },
 "nbformat": 4,
 "nbformat_minor": 2
}
